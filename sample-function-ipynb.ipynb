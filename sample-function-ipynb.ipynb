{
 "cells": [
  {
   "cell_type": "code",
   "execution_count": 1,
   "id": "7616950d",
   "metadata": {
    "_cell_guid": "b1076dfc-b9ad-4769-8c92-a6c4dae69d19",
    "_uuid": "8f2839f25d086af736a60e9eeb907d3b93b6e0e5",
    "execution": {
     "iopub.execute_input": "2023-10-25T14:25:44.607713Z",
     "iopub.status.busy": "2023-10-25T14:25:44.607300Z",
     "iopub.status.idle": "2023-10-25T14:25:45.016059Z",
     "shell.execute_reply": "2023-10-25T14:25:45.014816Z"
    },
    "papermill": {
     "duration": 0.41611,
     "end_time": "2023-10-25T14:25:45.019394",
     "exception": false,
     "start_time": "2023-10-25T14:25:44.603284",
     "status": "completed"
    },
    "tags": []
   },
   "outputs": [],
   "source": [
    "# This Python 3 environment comes with many helpful analytics libraries installed\n",
    "# It is defined by the kaggle/python Docker image: https://github.com/kaggle/docker-python\n",
    "# For example, here's several helpful packages to load\n",
    "\n",
    "import numpy as np # linear algebra\n",
    "import pandas as pd # data processing, CSV file I/O (e.g. pd.read_csv)\n",
    "\n",
    "# Input data files are available in the read-only \"../input/\" directory\n",
    "# For example, running this (by clicking run or pressing Shift+Enter) will list all files under the input directory\n",
    "\n",
    "import os\n",
    "for dirname, _, filenames in os.walk('/kaggle/input'):\n",
    "    for filename in filenames:\n",
    "        print(os.path.join(dirname, filename))\n",
    "\n",
    "# You can write up to 20GB to the current directory (/kaggle/working/) that gets preserved as output when you create a version using \"Save & Run All\" \n",
    "# You can also write temporary files to /kaggle/temp/, but they won't be saved outside of the current session"
   ]
  },
  {
   "cell_type": "code",
   "execution_count": 2,
   "id": "01a3af53",
   "metadata": {
    "execution": {
     "iopub.execute_input": "2023-10-25T14:25:45.026567Z",
     "iopub.status.busy": "2023-10-25T14:25:45.025087Z",
     "iopub.status.idle": "2023-10-25T14:25:45.030325Z",
     "shell.execute_reply": "2023-10-25T14:25:45.029461Z"
    },
    "papermill": {
     "duration": 0.011,
     "end_time": "2023-10-25T14:25:45.032606",
     "exception": false,
     "start_time": "2023-10-25T14:25:45.021606",
     "status": "completed"
    },
    "tags": []
   },
   "outputs": [],
   "source": [
    "def add(a,b):\n",
    "    sum = a+b\n",
    "    return sum\n"
   ]
  },
  {
   "cell_type": "code",
   "execution_count": 3,
   "id": "ab39678e",
   "metadata": {
    "execution": {
     "iopub.execute_input": "2023-10-25T14:25:45.039767Z",
     "iopub.status.busy": "2023-10-25T14:25:45.039099Z",
     "iopub.status.idle": "2023-10-25T14:25:45.047043Z",
     "shell.execute_reply": "2023-10-25T14:25:45.045836Z"
    },
    "papermill": {
     "duration": 0.015208,
     "end_time": "2023-10-25T14:25:45.050049",
     "exception": false,
     "start_time": "2023-10-25T14:25:45.034841",
     "status": "completed"
    },
    "tags": []
   },
   "outputs": [
    {
     "data": {
      "text/plain": [
       "3"
      ]
     },
     "execution_count": 3,
     "metadata": {},
     "output_type": "execute_result"
    }
   ],
   "source": [
    "add(1,2)"
   ]
  }
 ],
 "metadata": {
  "kernelspec": {
   "display_name": "Python 3",
   "language": "python",
   "name": "python3"
  },
  "language_info": {
   "codemirror_mode": {
    "name": "ipython",
    "version": 3
   },
   "file_extension": ".py",
   "mimetype": "text/x-python",
   "name": "python",
   "nbconvert_exporter": "python",
   "pygments_lexer": "ipython3",
   "version": "3.10.12"
  },
  "papermill": {
   "default_parameters": {},
   "duration": 4.528591,
   "end_time": "2023-10-25T14:25:45.572957",
   "environment_variables": {},
   "exception": null,
   "input_path": "__notebook__.ipynb",
   "output_path": "__notebook__.ipynb",
   "parameters": {},
   "start_time": "2023-10-25T14:25:41.044366",
   "version": "2.4.0"
  }
 },
 "nbformat": 4,
 "nbformat_minor": 5
}
